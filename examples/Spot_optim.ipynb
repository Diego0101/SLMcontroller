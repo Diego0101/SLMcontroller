{
 "cells": [
  {
   "cell_type": "markdown",
   "metadata": {},
   "source": [
    "# Spot aberration correction example\n",
    "\n",
    "This notebook shows how to use SLMcontroller for aberration compensation based on https://www.nature.com/articles/nphoton.2010.85"
   ]
  },
  {
   "cell_type": "code",
   "execution_count": 1,
   "metadata": {},
   "outputs": [],
   "source": [
    "import json\n",
    "import numpy as np\n",
    "import time\n",
    "\n",
    "import requests"
   ]
  },
  {
   "cell_type": "code",
   "execution_count": 2,
   "metadata": {},
   "outputs": [],
   "source": [
    "class SLM():\n",
    "    def __init__(self,server_url):\n",
    "        self._server_url = server_url\n",
    "        # self.phase = 0\n",
    "        # self.probZone = 0\n",
    "        # self.refZone = 0\n",
    "        # self.phaseStep = 0\n",
    "        # self.IDsList = np.array([])\n",
    "\n",
    "    @property\n",
    "    def phase(self):\n",
    "        self.get_from_server(self._server_url + \"optimiser/phase\" )\n",
    "        return self.__phase\n",
    "    \n",
    "    @phase.setter\n",
    "    def phase(self, phase):\n",
    "        self.get_from_server(self._server_url + \"optimiser/phase/\" + str(float(phase)))\n",
    "\n",
    "    @property\n",
    "    def phaseStep(self):\n",
    "        self.get_from_server(self._server_url + \"optimiser/phaseStep\" )\n",
    "        return self.__phaseStep\n",
    "    \n",
    "    @phaseStep.setter\n",
    "    def phaseStep(self, phaseStep):\n",
    "        self.get_from_server(self._server_url + \"optimiser/phaseStep/\" + str(float(phaseStep)))\n",
    "\n",
    "    @property\n",
    "    def IDsList(self):\n",
    "        self.get_from_server(self._server_url + \"optimiser/IDsList\")\n",
    "        return self.__IDsList\n",
    "    \n",
    "    @IDsList.setter\n",
    "    def IDsList(self,list):\n",
    "        self.get_from_server(self._server_url + \"optimiser/IDsList\")\n",
    "\n",
    "    @property\n",
    "    def probZone(self):\n",
    "        self.get_from_server(self._server_url + \"optimiser/probzone\")\n",
    "        return self.__probZone\n",
    "    \n",
    "    @probZone.setter\n",
    "    def probZone(self,probZone):\n",
    "        if probZone not in self.IDsList:\n",
    "            raise ValueError('Probe zone is not in the range of available zones. Try reloading the list with loadIDsList() or check your server configuration.')\n",
    "            return\n",
    "        self.get_from_server(self._server_url + \"optimiser/probzone/\" + str(int(probZone)))\n",
    "\n",
    "    @property\n",
    "    def refZone(self):\n",
    "        self.get_from_server(self._server_url + \"optimiser/refzone\")\n",
    "        return self.__refZone\n",
    "    \n",
    "    @refZone.setter\n",
    "    def refZone(self,refZone):\n",
    "        if refZone not in self.IDsList:\n",
    "            raise ValueError('Reference zone is not in the range of available zones. Try reloading the list with loadIDsList() or check your server configuration.')\n",
    "            return\n",
    "        self.get_from_server(self._server_url + \"optimiser/refzone/\" + str(int(refZone)))\n",
    "\n",
    "    def cleanResponse(self, response):\n",
    "        if response == 'None' or response == None:\n",
    "            return None\n",
    "        else:\n",
    "            return response\n",
    "\n",
    "    def get_from_server(self, url):\n",
    "        response = requests.get(url)\n",
    "        \n",
    "        if response.status_code != 200:\n",
    "            raise ValueError('There is a problem connecting to the server. Check your connection')\n",
    "            return -1\n",
    "        \n",
    "        json_response = json.loads(response.text)\n",
    "\n",
    "        if 'Phase' in json_response:\n",
    "            self.__phase = self.cleanResponse(json_response['Phase'])\n",
    "\n",
    "        if 'ProbZone' in json_response:\n",
    "            self.__probZone = self.cleanResponse(json_response['ProbZone'])\n",
    "\n",
    "        if 'RefZone' in json_response:\n",
    "            self.__refZone = self.cleanResponse(json_response['RefZone'])\n",
    "\n",
    "        if 'PhaseStep' in json_response:\n",
    "            self.__phaseStep = self.cleanResponse(json_response['PhaseStep'])\n",
    "\n",
    "        if 'IDsList' in json_response:\n",
    "            if isinstance(json_response['IDsList'], (list, tuple)):\n",
    "                self.__IDsList = np.copy(json_response['IDsList'])\n",
    "            else:\n",
    "                self.__IDsList = self.cleanResponse(json_response['IDsList'])\n",
    "\n",
    "\n",
    "    def nextStep(self):\n",
    "        self.get_from_server(self._server_url + \"optimiser/nextStep\")\n",
    "        if self.phase == None:\n",
    "            return False\n",
    "        else:\n",
    "            return True\n",
    "\n",
    "    def start(self):\n",
    "        self.get_from_server(self._server_url + \"optimiser/start\")"
   ]
  },
  {
   "cell_type": "code",
   "execution_count": 138,
   "metadata": {},
   "outputs": [],
   "source": []
  },
  {
   "cell_type": "code",
   "execution_count": 3,
   "metadata": {},
   "outputs": [],
   "source": [
    "SLM1030 = SLM('http://192.168.2.2:5000/')"
   ]
  },
  {
   "cell_type": "code",
   "execution_count": 8,
   "metadata": {},
   "outputs": [
    {
     "name": "stdout",
     "output_type": "stream",
     "text": [
      "probZone:  16  refZone:  20  phase:  80.0\n",
      "probZone:  16  refZone:  20  phase:  90.0\n",
      "probZone:  16  refZone:  20  phase:  100.0\n",
      "probZone:  16  refZone:  20  phase:  110.0\n",
      "probZone:  16  refZone:  20  phase:  120.0\n",
      "probZone:  16  refZone:  20  phase:  130.0\n",
      "probZone:  16  refZone:  20  phase:  140.0\n",
      "probZone:  16  refZone:  20  phase:  150.0\n",
      "probZone:  16  refZone:  20  phase:  160.0\n",
      "probZone:  16  refZone:  20  phase:  170.0\n",
      "probZone:  16  refZone:  20  phase:  180.0\n",
      "probZone:  16  refZone:  20  phase:  190.0\n",
      "probZone:  16  refZone:  20  phase:  200.0\n",
      "probZone:  16  refZone:  20  phase:  210.0\n",
      "probZone:  16  refZone:  20  phase:  220.0\n",
      "probZone:  16  refZone:  20  phase:  230.0\n",
      "probZone:  16  refZone:  20  phase:  240.0\n",
      "probZone:  16  refZone:  20  phase:  250.0\n",
      "probZone:  16  refZone:  20  phase:  None\n",
      "probZone:  17  refZone:  20  phase:  10.0\n",
      "probZone:  17  refZone:  20  phase:  20.0\n",
      "probZone:  17  refZone:  20  phase:  30.0\n",
      "probZone:  17  refZone:  20  phase:  40.0\n",
      "probZone:  17  refZone:  20  phase:  50.0\n",
      "probZone:  17  refZone:  20  phase:  60.0\n",
      "probZone:  17  refZone:  20  phase:  70.0\n",
      "probZone:  17  refZone:  20  phase:  80.0\n",
      "probZone:  17  refZone:  20  phase:  90.0\n",
      "probZone:  17  refZone:  20  phase:  100.0\n",
      "probZone:  17  refZone:  20  phase:  110.0\n",
      "probZone:  17  refZone:  20  phase:  120.0\n",
      "probZone:  17  refZone:  20  phase:  130.0\n",
      "probZone:  17  refZone:  20  phase:  140.0\n",
      "probZone:  17  refZone:  20  phase:  150.0\n",
      "probZone:  17  refZone:  20  phase:  160.0\n",
      "probZone:  17  refZone:  20  phase:  170.0\n",
      "probZone:  17  refZone:  20  phase:  180.0\n",
      "probZone:  17  refZone:  20  phase:  190.0\n",
      "probZone:  17  refZone:  20  phase:  200.0\n",
      "probZone:  17  refZone:  20  phase:  210.0\n",
      "probZone:  17  refZone:  20  phase:  220.0\n",
      "probZone:  17  refZone:  20  phase:  230.0\n",
      "probZone:  17  refZone:  20  phase:  240.0\n",
      "probZone:  17  refZone:  20  phase:  250.0\n",
      "probZone:  17  refZone:  20  phase:  None\n",
      "probZone:  18  refZone:  20  phase:  10.0\n",
      "probZone:  18  refZone:  20  phase:  20.0\n",
      "probZone:  18  refZone:  20  phase:  30.0\n",
      "probZone:  18  refZone:  20  phase:  40.0\n",
      "probZone:  18  refZone:  20  phase:  50.0\n",
      "probZone:  18  refZone:  20  phase:  60.0\n",
      "probZone:  18  refZone:  20  phase:  70.0\n",
      "probZone:  18  refZone:  20  phase:  80.0\n",
      "probZone:  18  refZone:  20  phase:  90.0\n",
      "probZone:  18  refZone:  20  phase:  100.0\n",
      "probZone:  18  refZone:  20  phase:  110.0\n",
      "probZone:  18  refZone:  20  phase:  120.0\n",
      "probZone:  18  refZone:  20  phase:  130.0\n",
      "probZone:  18  refZone:  20  phase:  140.0\n",
      "probZone:  18  refZone:  20  phase:  150.0\n",
      "probZone:  18  refZone:  20  phase:  160.0\n",
      "probZone:  18  refZone:  20  phase:  170.0\n",
      "probZone:  18  refZone:  20  phase:  180.0\n",
      "probZone:  18  refZone:  20  phase:  190.0\n",
      "probZone:  18  refZone:  20  phase:  200.0\n",
      "probZone:  18  refZone:  20  phase:  210.0\n",
      "probZone:  18  refZone:  20  phase:  220.0\n",
      "probZone:  18  refZone:  20  phase:  230.0\n",
      "probZone:  18  refZone:  20  phase:  240.0\n",
      "probZone:  18  refZone:  20  phase:  250.0\n",
      "probZone:  18  refZone:  20  phase:  None\n",
      "probZone:  19  refZone:  20  phase:  10.0\n",
      "probZone:  19  refZone:  20  phase:  20.0\n",
      "probZone:  19  refZone:  20  phase:  30.0\n",
      "probZone:  19  refZone:  20  phase:  40.0\n",
      "probZone:  19  refZone:  20  phase:  50.0\n",
      "probZone:  19  refZone:  20  phase:  60.0\n",
      "probZone:  19  refZone:  20  phase:  70.0\n",
      "probZone:  19  refZone:  20  phase:  80.0\n",
      "probZone:  19  refZone:  20  phase:  90.0\n",
      "probZone:  19  refZone:  20  phase:  100.0\n",
      "probZone:  19  refZone:  20  phase:  110.0\n",
      "probZone:  19  refZone:  20  phase:  120.0\n",
      "probZone:  19  refZone:  20  phase:  130.0\n",
      "probZone:  19  refZone:  20  phase:  140.0\n",
      "probZone:  19  refZone:  20  phase:  150.0\n",
      "probZone:  19  refZone:  20  phase:  160.0\n",
      "probZone:  19  refZone:  20  phase:  170.0\n",
      "probZone:  19  refZone:  20  phase:  180.0\n",
      "probZone:  19  refZone:  20  phase:  190.0\n",
      "probZone:  19  refZone:  20  phase:  200.0\n",
      "probZone:  19  refZone:  20  phase:  210.0\n",
      "probZone:  19  refZone:  20  phase:  220.0\n",
      "probZone:  19  refZone:  20  phase:  230.0\n",
      "probZone:  19  refZone:  20  phase:  240.0\n",
      "probZone:  19  refZone:  20  phase:  250.0\n",
      "probZone:  19  refZone:  20  phase:  None\n",
      "probZone:  21  refZone:  20  phase:  10.0\n",
      "probZone:  21  refZone:  20  phase:  20.0\n",
      "probZone:  21  refZone:  20  phase:  30.0\n",
      "probZone:  21  refZone:  20  phase:  40.0\n",
      "probZone:  21  refZone:  20  phase:  50.0\n",
      "probZone:  21  refZone:  20  phase:  60.0\n",
      "probZone:  21  refZone:  20  phase:  70.0\n",
      "probZone:  21  refZone:  20  phase:  80.0\n",
      "probZone:  21  refZone:  20  phase:  90.0\n",
      "probZone:  21  refZone:  20  phase:  100.0\n",
      "probZone:  21  refZone:  20  phase:  110.0\n",
      "probZone:  21  refZone:  20  phase:  120.0\n",
      "probZone:  21  refZone:  20  phase:  130.0\n",
      "probZone:  21  refZone:  20  phase:  140.0\n",
      "probZone:  21  refZone:  20  phase:  150.0\n",
      "probZone:  21  refZone:  20  phase:  160.0\n",
      "probZone:  21  refZone:  20  phase:  170.0\n",
      "probZone:  21  refZone:  20  phase:  180.0\n",
      "probZone:  21  refZone:  20  phase:  190.0\n",
      "probZone:  21  refZone:  20  phase:  200.0\n",
      "probZone:  21  refZone:  20  phase:  210.0\n",
      "probZone:  21  refZone:  20  phase:  220.0\n",
      "probZone:  21  refZone:  20  phase:  230.0\n",
      "probZone:  21  refZone:  20  phase:  240.0\n",
      "probZone:  21  refZone:  20  phase:  250.0\n",
      "probZone:  21  refZone:  20  phase:  None\n",
      "probZone:  22  refZone:  20  phase:  10.0\n",
      "probZone:  22  refZone:  20  phase:  20.0\n",
      "probZone:  22  refZone:  20  phase:  30.0\n",
      "probZone:  22  refZone:  20  phase:  40.0\n",
      "probZone:  22  refZone:  20  phase:  50.0\n",
      "probZone:  22  refZone:  20  phase:  60.0\n",
      "probZone:  22  refZone:  20  phase:  70.0\n",
      "probZone:  22  refZone:  20  phase:  80.0\n",
      "probZone:  22  refZone:  20  phase:  90.0\n",
      "probZone:  22  refZone:  20  phase:  100.0\n",
      "probZone:  22  refZone:  20  phase:  110.0\n",
      "probZone:  22  refZone:  20  phase:  120.0\n",
      "probZone:  22  refZone:  20  phase:  130.0\n",
      "probZone:  22  refZone:  20  phase:  140.0\n",
      "probZone:  22  refZone:  20  phase:  150.0\n",
      "probZone:  22  refZone:  20  phase:  160.0\n",
      "probZone:  22  refZone:  20  phase:  170.0\n",
      "probZone:  22  refZone:  20  phase:  180.0\n",
      "probZone:  22  refZone:  20  phase:  190.0\n",
      "probZone:  22  refZone:  20  phase:  200.0\n",
      "probZone:  22  refZone:  20  phase:  210.0\n",
      "probZone:  22  refZone:  20  phase:  220.0\n",
      "probZone:  22  refZone:  20  phase:  230.0\n",
      "probZone:  22  refZone:  20  phase:  240.0\n",
      "probZone:  22  refZone:  20  phase:  250.0\n",
      "probZone:  22  refZone:  20  phase:  None\n",
      "probZone:  23  refZone:  20  phase:  10.0\n",
      "probZone:  23  refZone:  20  phase:  20.0\n",
      "probZone:  23  refZone:  20  phase:  30.0\n",
      "probZone:  23  refZone:  20  phase:  40.0\n",
      "probZone:  23  refZone:  20  phase:  50.0\n",
      "probZone:  23  refZone:  20  phase:  60.0\n",
      "probZone:  23  refZone:  20  phase:  70.0\n",
      "probZone:  23  refZone:  20  phase:  80.0\n",
      "probZone:  23  refZone:  20  phase:  90.0\n",
      "probZone:  23  refZone:  20  phase:  100.0\n",
      "probZone:  23  refZone:  20  phase:  110.0\n",
      "probZone:  23  refZone:  20  phase:  120.0\n",
      "probZone:  23  refZone:  20  phase:  130.0\n",
      "probZone:  23  refZone:  20  phase:  140.0\n",
      "probZone:  23  refZone:  20  phase:  150.0\n",
      "probZone:  23  refZone:  20  phase:  160.0\n",
      "probZone:  23  refZone:  20  phase:  170.0\n",
      "probZone:  23  refZone:  20  phase:  180.0\n",
      "probZone:  23  refZone:  20  phase:  190.0\n",
      "probZone:  23  refZone:  20  phase:  200.0\n",
      "probZone:  23  refZone:  20  phase:  210.0\n",
      "probZone:  23  refZone:  20  phase:  220.0\n",
      "probZone:  23  refZone:  20  phase:  230.0\n",
      "probZone:  23  refZone:  20  phase:  240.0\n",
      "probZone:  23  refZone:  20  phase:  250.0\n",
      "probZone:  23  refZone:  20  phase:  None\n",
      "probZone:  24  refZone:  20  phase:  10.0\n",
      "probZone:  24  refZone:  20  phase:  20.0\n",
      "probZone:  24  refZone:  20  phase:  30.0\n",
      "probZone:  24  refZone:  20  phase:  40.0\n",
      "probZone:  24  refZone:  20  phase:  50.0\n",
      "probZone:  24  refZone:  20  phase:  60.0\n",
      "probZone:  24  refZone:  20  phase:  70.0\n",
      "probZone:  24  refZone:  20  phase:  80.0\n",
      "probZone:  24  refZone:  20  phase:  90.0\n",
      "probZone:  24  refZone:  20  phase:  100.0\n",
      "probZone:  24  refZone:  20  phase:  110.0\n",
      "probZone:  24  refZone:  20  phase:  120.0\n",
      "probZone:  24  refZone:  20  phase:  130.0\n",
      "probZone:  24  refZone:  20  phase:  140.0\n",
      "probZone:  24  refZone:  20  phase:  150.0\n",
      "probZone:  24  refZone:  20  phase:  160.0\n",
      "probZone:  24  refZone:  20  phase:  170.0\n",
      "probZone:  24  refZone:  20  phase:  180.0\n",
      "probZone:  24  refZone:  20  phase:  190.0\n",
      "probZone:  24  refZone:  20  phase:  200.0\n",
      "probZone:  24  refZone:  20  phase:  210.0\n",
      "probZone:  24  refZone:  20  phase:  220.0\n",
      "probZone:  24  refZone:  20  phase:  230.0\n",
      "probZone:  24  refZone:  20  phase:  240.0\n",
      "probZone:  24  refZone:  20  phase:  250.0\n",
      "probZone:  24  refZone:  20  phase:  None\n"
     ]
    }
   ],
   "source": [
    "# Data acquisition sequence (misses camera functions)\n",
    "\n",
    "SLM1030 = SLM('http://192.168.2.2:5000/')\n",
    "SLM1030.refZone = 20\n",
    "SLM1030.IDsList\n",
    "SLM1030.probZone = SLM1030.IDsList[0]\n",
    "SLM1030.phaseStep = 10\n",
    "\n",
    "for ID in SLM1030.IDsList:\n",
    "    if ID != SLM1030.refZone:\n",
    "        SLM1030.probZone = ID\n",
    "        SLM1030.phase = 0\n",
    "        SLM1030.start()\n",
    "        while SLM1030.nextStep():\n",
    "            time.sleep(0.1)\n",
    "            print(\"probZone: \", SLM1030.probZone, \" refZone: \", SLM1030.refZone, \" phase: \", SLM1030.phase)"
   ]
  },
  {
   "cell_type": "code",
   "execution_count": 127,
   "metadata": {},
   "outputs": [
    {
     "data": {
      "text/plain": [
       "False"
      ]
     },
     "execution_count": 127,
     "metadata": {},
     "output_type": "execute_result"
    }
   ],
   "source": [
    "\n",
    "\n",
    "SLM1030.nextStep()"
   ]
  },
  {
   "cell_type": "code",
   "execution_count": 51,
   "metadata": {},
   "outputs": [
    {
     "data": {
      "text/plain": [
       "200"
      ]
     },
     "execution_count": 51,
     "metadata": {},
     "output_type": "execute_result"
    }
   ],
   "source": [
    "response.status_code"
   ]
  },
  {
   "cell_type": "code",
   "execution_count": 18,
   "metadata": {},
   "outputs": [],
   "source": [
    "response = requests.get('http://192.168.2.2:5000/optimiser/phaseStep/15.0')\n",
    "json_response = json.loads(response.text)"
   ]
  },
  {
   "cell_type": "code",
   "execution_count": 66,
   "metadata": {},
   "outputs": [],
   "source": [
    "response = requests.get('http://192.168.2.2:5000/optimiser/nextStep')\n",
    "json_response = json.loads(response.text)"
   ]
  },
  {
   "cell_type": "code",
   "execution_count": 67,
   "metadata": {},
   "outputs": [
    {
     "data": {
      "text/plain": [
       "{'Phase': None, 'ProbZone': 16, 'RefZone': 19}"
      ]
     },
     "execution_count": 67,
     "metadata": {},
     "output_type": "execute_result"
    }
   ],
   "source": [
    "json_response"
   ]
  },
  {
   "cell_type": "code",
   "execution_count": 12,
   "metadata": {},
   "outputs": [
    {
     "data": {
      "text/plain": [
       "255.0"
      ]
     },
     "execution_count": 12,
     "metadata": {},
     "output_type": "execute_result"
    }
   ],
   "source": [
    "json_response['Phase']"
   ]
  },
  {
   "cell_type": "code",
   "execution_count": 15,
   "metadata": {},
   "outputs": [
    {
     "data": {
      "text/plain": [
       "<Response [404]>"
      ]
     },
     "execution_count": 15,
     "metadata": {},
     "output_type": "execute_result"
    }
   ],
   "source": [
    "response"
   ]
  },
  {
   "cell_type": "code",
   "execution_count": 22,
   "metadata": {},
   "outputs": [
    {
     "data": {
      "text/plain": [
       "1"
      ]
     },
     "execution_count": 22,
     "metadata": {},
     "output_type": "execute_result"
    }
   ],
   "source": [
    "int(1.2)"
   ]
  },
  {
   "cell_type": "code",
   "execution_count": null,
   "metadata": {},
   "outputs": [],
   "source": []
  }
 ],
 "metadata": {
  "kernelspec": {
   "display_name": "Python 3",
   "language": "python",
   "name": "python3"
  },
  "language_info": {
   "codemirror_mode": {
    "name": "ipython",
    "version": 3
   },
   "file_extension": ".py",
   "mimetype": "text/x-python",
   "name": "python",
   "nbconvert_exporter": "python",
   "pygments_lexer": "ipython3",
   "version": "3.9.2"
  },
  "orig_nbformat": 4,
  "vscode": {
   "interpreter": {
    "hash": "e7370f93d1d0cde622a1f8e1c04877d8463912d04d973331ad4851f04de6915a"
   }
  }
 },
 "nbformat": 4,
 "nbformat_minor": 2
}
